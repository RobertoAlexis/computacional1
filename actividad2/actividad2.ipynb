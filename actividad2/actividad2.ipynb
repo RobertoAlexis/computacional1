{
 "cells": [
  {
   "cell_type": "code",
   "execution_count": 1,
   "metadata": {
    "collapsed": true
   },
   "outputs": [],
   "source": [
    "# Cargar a la memoria de trabajo las bibliotecas: Pandas (manejo de datos, \n",
    "# Numpy (numerical python) y la biblioteca de gráficas Matplotlib\n",
    "# Se asignan nombres cortos.\n",
    "import pandas as pd\n",
    "import numpy as np\n",
    "import matplotlib.pyplot as plt\n",
    "#\n",
    "# Usar \"Shift+Enter\" para procesar la información de la celda\n",
    "#"
   ]
  },
  {
   "cell_type": "code",
   "execution_count": 2,
   "metadata": {
    "collapsed": true
   },
   "outputs": [],
   "source": [
    "# Descarga los datos de una estación del Servicio Meteorológico Nacional\n",
    "# http://smn1.conagua.gob.mx/emas/\n",
    "# Lee un archivo de texto con la función Pandas \"read_csv\", con elementos separados por mas de \n",
    "# un espacio, brincándose 4 renglones del inicio (encabezados)\n",
    "df0 = pd.read_csv('cumbres.txt', skiprows=4, sep='\\s+')\n",
    "# \"Shift + Enter\""
   ]
  },
  {
   "cell_type": "code",
   "execution_count": 3,
   "metadata": {},
   "outputs": [
    {
     "data": {
      "text/html": [
       "<div>\n",
       "<style>\n",
       "    .dataframe thead tr:only-child th {\n",
       "        text-align: right;\n",
       "    }\n",
       "\n",
       "    .dataframe thead th {\n",
       "        text-align: left;\n",
       "    }\n",
       "\n",
       "    .dataframe tbody tr th {\n",
       "        vertical-align: top;\n",
       "    }\n",
       "</style>\n",
       "<table border=\"1\" class=\"dataframe\">\n",
       "  <thead>\n",
       "    <tr style=\"text-align: right;\">\n",
       "      <th></th>\n",
       "      <th>DD/MM/AAAA</th>\n",
       "      <th>HH:MM</th>\n",
       "      <th>DIRS</th>\n",
       "      <th>DIRR</th>\n",
       "      <th>VELS</th>\n",
       "      <th>VELR</th>\n",
       "      <th>TEMP</th>\n",
       "      <th>HR</th>\n",
       "      <th>PB</th>\n",
       "      <th>PREC</th>\n",
       "      <th>RADSOL</th>\n",
       "      <th>TEMPCOMB</th>\n",
       "      <th>HUMCOMB</th>\n",
       "      <th>HUMSUBS</th>\n",
       "      <th>TEMPSUBS</th>\n",
       "    </tr>\n",
       "  </thead>\n",
       "  <tbody>\n",
       "    <tr>\n",
       "      <th>0</th>\n",
       "      <td>26/01/2018</td>\n",
       "      <td>17:00</td>\n",
       "      <td>350</td>\n",
       "      <td>32</td>\n",
       "      <td>1.86</td>\n",
       "      <td>10.8</td>\n",
       "      <td>15.1</td>\n",
       "      <td>61</td>\n",
       "      <td>934.8</td>\n",
       "      <td>0.0</td>\n",
       "      <td>259.3</td>\n",
       "      <td>18.4</td>\n",
       "      <td>61</td>\n",
       "      <td>6</td>\n",
       "      <td>12.6</td>\n",
       "    </tr>\n",
       "    <tr>\n",
       "      <th>1</th>\n",
       "      <td>26/01/2018</td>\n",
       "      <td>18:00</td>\n",
       "      <td>32</td>\n",
       "      <td>13</td>\n",
       "      <td>5.78</td>\n",
       "      <td>21.2</td>\n",
       "      <td>16.8</td>\n",
       "      <td>57</td>\n",
       "      <td>933.8</td>\n",
       "      <td>0.0</td>\n",
       "      <td>294.0</td>\n",
       "      <td>21.0</td>\n",
       "      <td>52</td>\n",
       "      <td>6</td>\n",
       "      <td>12.7</td>\n",
       "    </tr>\n",
       "    <tr>\n",
       "      <th>2</th>\n",
       "      <td>26/01/2018</td>\n",
       "      <td>19:00</td>\n",
       "      <td>27</td>\n",
       "      <td>30</td>\n",
       "      <td>10.60</td>\n",
       "      <td>25.6</td>\n",
       "      <td>18.2</td>\n",
       "      <td>54</td>\n",
       "      <td>932.6</td>\n",
       "      <td>0.0</td>\n",
       "      <td>283.5</td>\n",
       "      <td>22.4</td>\n",
       "      <td>46</td>\n",
       "      <td>6</td>\n",
       "      <td>12.9</td>\n",
       "    </tr>\n",
       "    <tr>\n",
       "      <th>3</th>\n",
       "      <td>26/01/2018</td>\n",
       "      <td>20:00</td>\n",
       "      <td>27</td>\n",
       "      <td>20</td>\n",
       "      <td>11.41</td>\n",
       "      <td>25.2</td>\n",
       "      <td>18.1</td>\n",
       "      <td>55</td>\n",
       "      <td>931.8</td>\n",
       "      <td>0.0</td>\n",
       "      <td>185.0</td>\n",
       "      <td>21.0</td>\n",
       "      <td>47</td>\n",
       "      <td>5</td>\n",
       "      <td>13.2</td>\n",
       "    </tr>\n",
       "    <tr>\n",
       "      <th>4</th>\n",
       "      <td>26/01/2018</td>\n",
       "      <td>21:00</td>\n",
       "      <td>28</td>\n",
       "      <td>16</td>\n",
       "      <td>12.36</td>\n",
       "      <td>22.3</td>\n",
       "      <td>18.2</td>\n",
       "      <td>55</td>\n",
       "      <td>931.2</td>\n",
       "      <td>0.0</td>\n",
       "      <td>186.2</td>\n",
       "      <td>20.9</td>\n",
       "      <td>48</td>\n",
       "      <td>6</td>\n",
       "      <td>13.5</td>\n",
       "    </tr>\n",
       "  </tbody>\n",
       "</table>\n",
       "</div>"
      ],
      "text/plain": [
       "   DD/MM/AAAA  HH:MM  DIRS  DIRR   VELS  VELR  TEMP  HR     PB  PREC  RADSOL  \\\n",
       "0  26/01/2018  17:00   350    32   1.86  10.8  15.1  61  934.8   0.0   259.3   \n",
       "1  26/01/2018  18:00    32    13   5.78  21.2  16.8  57  933.8   0.0   294.0   \n",
       "2  26/01/2018  19:00    27    30  10.60  25.6  18.2  54  932.6   0.0   283.5   \n",
       "3  26/01/2018  20:00    27    20  11.41  25.2  18.1  55  931.8   0.0   185.0   \n",
       "4  26/01/2018  21:00    28    16  12.36  22.3  18.2  55  931.2   0.0   186.2   \n",
       "\n",
       "   TEMPCOMB  HUMCOMB  HUMSUBS  TEMPSUBS  \n",
       "0      18.4       61        6      12.6  \n",
       "1      21.0       52        6      12.7  \n",
       "2      22.4       46        6      12.9  \n",
       "3      21.0       47        5      13.2  \n",
       "4      20.9       48        6      13.5  "
      ]
     },
     "execution_count": 3,
     "metadata": {},
     "output_type": "execute_result"
    }
   ],
   "source": [
    "# Lee los primeros 5 renglones del archivo\n",
    "df0.head()\n",
    "# \"Shift+Enter\""
   ]
  },
  {
   "cell_type": "code",
   "execution_count": 4,
   "metadata": {
    "collapsed": true
   },
   "outputs": [],
   "source": [
    "# Dar estructura de datos (DataFrame)\n",
    "df = pd.DataFrame(df0)"
   ]
  },
  {
   "cell_type": "code",
   "execution_count": 5,
   "metadata": {},
   "outputs": [
    {
     "data": {
      "text/plain": [
       "DD/MM/AAAA     object\n",
       "HH:MM          object\n",
       "DIRS            int64\n",
       "DIRR            int64\n",
       "VELS          float64\n",
       "VELR          float64\n",
       "TEMP          float64\n",
       "HR              int64\n",
       "PB            float64\n",
       "PREC          float64\n",
       "RADSOL        float64\n",
       "TEMPCOMB      float64\n",
       "HUMCOMB         int64\n",
       "HUMSUBS         int64\n",
       "TEMPSUBS      float64\n",
       "dtype: object"
      ]
     },
     "execution_count": 5,
     "metadata": {},
     "output_type": "execute_result"
    }
   ],
   "source": [
    "# Ver los tipos de datos que Pandas ha reconocido al leer\n",
    "df.dtypes"
   ]
  },
  {
   "cell_type": "code",
   "execution_count": 6,
   "metadata": {
    "collapsed": true
   },
   "outputs": [],
   "source": [
    "# Combinar las columnas \"DD/MM/AAAA\" con \"HH:MM\" y convertirla a variable de tiempo\n",
    "# Se crea una nueva columna \"Fecha\" al final con formato de tiempo.\n",
    "# Eliminamos las dos primeras columnas que ya no necesitaremos\n",
    "df['FECHA'] = pd.to_datetime(df.apply(lambda x: x['DD/MM/AAAA'] + ' ' + x['HH:MM'], 1), dayfirst=True)\n",
    "df = df.drop(['DD/MM/AAAA', 'HH:MM'], 1)\n"
   ]
  },
  {
   "cell_type": "code",
   "execution_count": 7,
   "metadata": {},
   "outputs": [
    {
     "data": {
      "text/html": [
       "<div>\n",
       "<style>\n",
       "    .dataframe thead tr:only-child th {\n",
       "        text-align: right;\n",
       "    }\n",
       "\n",
       "    .dataframe thead th {\n",
       "        text-align: left;\n",
       "    }\n",
       "\n",
       "    .dataframe tbody tr th {\n",
       "        vertical-align: top;\n",
       "    }\n",
       "</style>\n",
       "<table border=\"1\" class=\"dataframe\">\n",
       "  <thead>\n",
       "    <tr style=\"text-align: right;\">\n",
       "      <th></th>\n",
       "      <th>DIRS</th>\n",
       "      <th>DIRR</th>\n",
       "      <th>VELS</th>\n",
       "      <th>VELR</th>\n",
       "      <th>TEMP</th>\n",
       "      <th>HR</th>\n",
       "      <th>PB</th>\n",
       "      <th>PREC</th>\n",
       "      <th>RADSOL</th>\n",
       "      <th>TEMPCOMB</th>\n",
       "      <th>HUMCOMB</th>\n",
       "      <th>HUMSUBS</th>\n",
       "      <th>TEMPSUBS</th>\n",
       "      <th>FECHA</th>\n",
       "    </tr>\n",
       "  </thead>\n",
       "  <tbody>\n",
       "    <tr>\n",
       "      <th>0</th>\n",
       "      <td>350</td>\n",
       "      <td>32</td>\n",
       "      <td>1.86</td>\n",
       "      <td>10.8</td>\n",
       "      <td>15.1</td>\n",
       "      <td>61</td>\n",
       "      <td>934.8</td>\n",
       "      <td>0.0</td>\n",
       "      <td>259.3</td>\n",
       "      <td>18.4</td>\n",
       "      <td>61</td>\n",
       "      <td>6</td>\n",
       "      <td>12.6</td>\n",
       "      <td>2018-01-26 17:00:00</td>\n",
       "    </tr>\n",
       "    <tr>\n",
       "      <th>1</th>\n",
       "      <td>32</td>\n",
       "      <td>13</td>\n",
       "      <td>5.78</td>\n",
       "      <td>21.2</td>\n",
       "      <td>16.8</td>\n",
       "      <td>57</td>\n",
       "      <td>933.8</td>\n",
       "      <td>0.0</td>\n",
       "      <td>294.0</td>\n",
       "      <td>21.0</td>\n",
       "      <td>52</td>\n",
       "      <td>6</td>\n",
       "      <td>12.7</td>\n",
       "      <td>2018-01-26 18:00:00</td>\n",
       "    </tr>\n",
       "    <tr>\n",
       "      <th>2</th>\n",
       "      <td>27</td>\n",
       "      <td>30</td>\n",
       "      <td>10.60</td>\n",
       "      <td>25.6</td>\n",
       "      <td>18.2</td>\n",
       "      <td>54</td>\n",
       "      <td>932.6</td>\n",
       "      <td>0.0</td>\n",
       "      <td>283.5</td>\n",
       "      <td>22.4</td>\n",
       "      <td>46</td>\n",
       "      <td>6</td>\n",
       "      <td>12.9</td>\n",
       "      <td>2018-01-26 19:00:00</td>\n",
       "    </tr>\n",
       "    <tr>\n",
       "      <th>3</th>\n",
       "      <td>27</td>\n",
       "      <td>20</td>\n",
       "      <td>11.41</td>\n",
       "      <td>25.2</td>\n",
       "      <td>18.1</td>\n",
       "      <td>55</td>\n",
       "      <td>931.8</td>\n",
       "      <td>0.0</td>\n",
       "      <td>185.0</td>\n",
       "      <td>21.0</td>\n",
       "      <td>47</td>\n",
       "      <td>5</td>\n",
       "      <td>13.2</td>\n",
       "      <td>2018-01-26 20:00:00</td>\n",
       "    </tr>\n",
       "    <tr>\n",
       "      <th>4</th>\n",
       "      <td>28</td>\n",
       "      <td>16</td>\n",
       "      <td>12.36</td>\n",
       "      <td>22.3</td>\n",
       "      <td>18.2</td>\n",
       "      <td>55</td>\n",
       "      <td>931.2</td>\n",
       "      <td>0.0</td>\n",
       "      <td>186.2</td>\n",
       "      <td>20.9</td>\n",
       "      <td>48</td>\n",
       "      <td>6</td>\n",
       "      <td>13.5</td>\n",
       "      <td>2018-01-26 21:00:00</td>\n",
       "    </tr>\n",
       "  </tbody>\n",
       "</table>\n",
       "</div>"
      ],
      "text/plain": [
       "   DIRS  DIRR   VELS  VELR  TEMP  HR     PB  PREC  RADSOL  TEMPCOMB  HUMCOMB  \\\n",
       "0   350    32   1.86  10.8  15.1  61  934.8   0.0   259.3      18.4       61   \n",
       "1    32    13   5.78  21.2  16.8  57  933.8   0.0   294.0      21.0       52   \n",
       "2    27    30  10.60  25.6  18.2  54  932.6   0.0   283.5      22.4       46   \n",
       "3    27    20  11.41  25.2  18.1  55  931.8   0.0   185.0      21.0       47   \n",
       "4    28    16  12.36  22.3  18.2  55  931.2   0.0   186.2      20.9       48   \n",
       "\n",
       "   HUMSUBS  TEMPSUBS               FECHA  \n",
       "0        6      12.6 2018-01-26 17:00:00  \n",
       "1        6      12.7 2018-01-26 18:00:00  \n",
       "2        6      12.9 2018-01-26 19:00:00  \n",
       "3        5      13.2 2018-01-26 20:00:00  \n",
       "4        6      13.5 2018-01-26 21:00:00  "
      ]
     },
     "execution_count": 7,
     "metadata": {},
     "output_type": "execute_result"
    }
   ],
   "source": [
    "df.head()"
   ]
  },
  {
   "cell_type": "code",
   "execution_count": 8,
   "metadata": {},
   "outputs": [
    {
     "data": {
      "text/html": [
       "<div>\n",
       "<style>\n",
       "    .dataframe thead tr:only-child th {\n",
       "        text-align: right;\n",
       "    }\n",
       "\n",
       "    .dataframe thead th {\n",
       "        text-align: left;\n",
       "    }\n",
       "\n",
       "    .dataframe tbody tr th {\n",
       "        vertical-align: top;\n",
       "    }\n",
       "</style>\n",
       "<table border=\"1\" class=\"dataframe\">\n",
       "  <thead>\n",
       "    <tr style=\"text-align: right;\">\n",
       "      <th></th>\n",
       "      <th>DIRS</th>\n",
       "      <th>DIRR</th>\n",
       "      <th>VELS</th>\n",
       "      <th>VELR</th>\n",
       "      <th>TEMP</th>\n",
       "      <th>HR</th>\n",
       "      <th>PB</th>\n",
       "      <th>PREC</th>\n",
       "      <th>RADSOL</th>\n",
       "      <th>TEMPCOMB</th>\n",
       "      <th>HUMCOMB</th>\n",
       "      <th>HUMSUBS</th>\n",
       "      <th>TEMPSUBS</th>\n",
       "    </tr>\n",
       "  </thead>\n",
       "  <tbody>\n",
       "    <tr>\n",
       "      <th>count</th>\n",
       "      <td>167.000000</td>\n",
       "      <td>167.000000</td>\n",
       "      <td>167.000000</td>\n",
       "      <td>167.000000</td>\n",
       "      <td>167.000000</td>\n",
       "      <td>167.000000</td>\n",
       "      <td>167.000000</td>\n",
       "      <td>167.000000</td>\n",
       "      <td>167.000000</td>\n",
       "      <td>167.00000</td>\n",
       "      <td>167.000000</td>\n",
       "      <td>167.000000</td>\n",
       "      <td>167.000000</td>\n",
       "    </tr>\n",
       "    <tr>\n",
       "      <th>mean</th>\n",
       "      <td>150.323353</td>\n",
       "      <td>136.850299</td>\n",
       "      <td>5.362695</td>\n",
       "      <td>15.483832</td>\n",
       "      <td>13.641916</td>\n",
       "      <td>64.143713</td>\n",
       "      <td>935.971856</td>\n",
       "      <td>0.002395</td>\n",
       "      <td>120.681437</td>\n",
       "      <td>14.07485</td>\n",
       "      <td>61.844311</td>\n",
       "      <td>5.838323</td>\n",
       "      <td>13.949701</td>\n",
       "    </tr>\n",
       "    <tr>\n",
       "      <th>std</th>\n",
       "      <td>103.239940</td>\n",
       "      <td>106.078490</td>\n",
       "      <td>4.858394</td>\n",
       "      <td>10.221542</td>\n",
       "      <td>6.773552</td>\n",
       "      <td>26.667130</td>\n",
       "      <td>4.629748</td>\n",
       "      <td>0.021821</td>\n",
       "      <td>200.619023</td>\n",
       "      <td>8.69988</td>\n",
       "      <td>24.396320</td>\n",
       "      <td>0.369261</td>\n",
       "      <td>1.294701</td>\n",
       "    </tr>\n",
       "    <tr>\n",
       "      <th>min</th>\n",
       "      <td>0.000000</td>\n",
       "      <td>2.000000</td>\n",
       "      <td>0.240000</td>\n",
       "      <td>4.300000</td>\n",
       "      <td>-1.100000</td>\n",
       "      <td>18.000000</td>\n",
       "      <td>928.400000</td>\n",
       "      <td>0.000000</td>\n",
       "      <td>0.000000</td>\n",
       "      <td>-2.40000</td>\n",
       "      <td>14.000000</td>\n",
       "      <td>5.000000</td>\n",
       "      <td>11.300000</td>\n",
       "    </tr>\n",
       "    <tr>\n",
       "      <th>25%</th>\n",
       "      <td>32.000000</td>\n",
       "      <td>30.000000</td>\n",
       "      <td>2.055000</td>\n",
       "      <td>7.200000</td>\n",
       "      <td>8.750000</td>\n",
       "      <td>39.500000</td>\n",
       "      <td>932.300000</td>\n",
       "      <td>0.000000</td>\n",
       "      <td>0.000000</td>\n",
       "      <td>7.70000</td>\n",
       "      <td>42.000000</td>\n",
       "      <td>6.000000</td>\n",
       "      <td>12.950000</td>\n",
       "    </tr>\n",
       "    <tr>\n",
       "      <th>50%</th>\n",
       "      <td>162.000000</td>\n",
       "      <td>117.000000</td>\n",
       "      <td>3.090000</td>\n",
       "      <td>11.200000</td>\n",
       "      <td>14.600000</td>\n",
       "      <td>65.000000</td>\n",
       "      <td>936.100000</td>\n",
       "      <td>0.000000</td>\n",
       "      <td>0.000000</td>\n",
       "      <td>14.10000</td>\n",
       "      <td>64.000000</td>\n",
       "      <td>6.000000</td>\n",
       "      <td>14.300000</td>\n",
       "    </tr>\n",
       "    <tr>\n",
       "      <th>75%</th>\n",
       "      <td>217.500000</td>\n",
       "      <td>238.000000</td>\n",
       "      <td>7.430000</td>\n",
       "      <td>22.000000</td>\n",
       "      <td>18.150000</td>\n",
       "      <td>87.500000</td>\n",
       "      <td>939.550000</td>\n",
       "      <td>0.000000</td>\n",
       "      <td>187.500000</td>\n",
       "      <td>19.15000</td>\n",
       "      <td>83.000000</td>\n",
       "      <td>6.000000</td>\n",
       "      <td>14.900000</td>\n",
       "    </tr>\n",
       "    <tr>\n",
       "      <th>max</th>\n",
       "      <td>359.000000</td>\n",
       "      <td>358.000000</td>\n",
       "      <td>23.510000</td>\n",
       "      <td>41.000000</td>\n",
       "      <td>30.400000</td>\n",
       "      <td>100.000000</td>\n",
       "      <td>945.100000</td>\n",
       "      <td>0.200000</td>\n",
       "      <td>845.200000</td>\n",
       "      <td>34.70000</td>\n",
       "      <td>96.000000</td>\n",
       "      <td>6.000000</td>\n",
       "      <td>16.300000</td>\n",
       "    </tr>\n",
       "  </tbody>\n",
       "</table>\n",
       "</div>"
      ],
      "text/plain": [
       "             DIRS        DIRR        VELS        VELR        TEMP          HR  \\\n",
       "count  167.000000  167.000000  167.000000  167.000000  167.000000  167.000000   \n",
       "mean   150.323353  136.850299    5.362695   15.483832   13.641916   64.143713   \n",
       "std    103.239940  106.078490    4.858394   10.221542    6.773552   26.667130   \n",
       "min      0.000000    2.000000    0.240000    4.300000   -1.100000   18.000000   \n",
       "25%     32.000000   30.000000    2.055000    7.200000    8.750000   39.500000   \n",
       "50%    162.000000  117.000000    3.090000   11.200000   14.600000   65.000000   \n",
       "75%    217.500000  238.000000    7.430000   22.000000   18.150000   87.500000   \n",
       "max    359.000000  358.000000   23.510000   41.000000   30.400000  100.000000   \n",
       "\n",
       "               PB        PREC      RADSOL   TEMPCOMB     HUMCOMB     HUMSUBS  \\\n",
       "count  167.000000  167.000000  167.000000  167.00000  167.000000  167.000000   \n",
       "mean   935.971856    0.002395  120.681437   14.07485   61.844311    5.838323   \n",
       "std      4.629748    0.021821  200.619023    8.69988   24.396320    0.369261   \n",
       "min    928.400000    0.000000    0.000000   -2.40000   14.000000    5.000000   \n",
       "25%    932.300000    0.000000    0.000000    7.70000   42.000000    6.000000   \n",
       "50%    936.100000    0.000000    0.000000   14.10000   64.000000    6.000000   \n",
       "75%    939.550000    0.000000  187.500000   19.15000   83.000000    6.000000   \n",
       "max    945.100000    0.200000  845.200000   34.70000   96.000000    6.000000   \n",
       "\n",
       "         TEMPSUBS  \n",
       "count  167.000000  \n",
       "mean    13.949701  \n",
       "std      1.294701  \n",
       "min     11.300000  \n",
       "25%     12.950000  \n",
       "50%     14.300000  \n",
       "75%     14.900000  \n",
       "max     16.300000  "
      ]
     },
     "execution_count": 8,
     "metadata": {},
     "output_type": "execute_result"
    }
   ],
   "source": [
    "# Realiza un análisis exploratorio de datos\n",
    "df.describe()"
   ]
  },
  {
   "cell_type": "code",
   "execution_count": 9,
   "metadata": {},
   "outputs": [
    {
     "data": {
      "text/html": [
       "<div>\n",
       "<style>\n",
       "    .dataframe thead tr:only-child th {\n",
       "        text-align: right;\n",
       "    }\n",
       "\n",
       "    .dataframe thead th {\n",
       "        text-align: left;\n",
       "    }\n",
       "\n",
       "    .dataframe tbody tr th {\n",
       "        vertical-align: top;\n",
       "    }\n",
       "</style>\n",
       "<table border=\"1\" class=\"dataframe\">\n",
       "  <thead>\n",
       "    <tr style=\"text-align: right;\">\n",
       "      <th></th>\n",
       "      <th>DIRS</th>\n",
       "      <th>DIRR</th>\n",
       "      <th>VELS</th>\n",
       "      <th>VELR</th>\n",
       "      <th>TEMP</th>\n",
       "      <th>HR</th>\n",
       "      <th>PB</th>\n",
       "      <th>PREC</th>\n",
       "      <th>RADSOL</th>\n",
       "      <th>TEMPCOMB</th>\n",
       "      <th>HUMCOMB</th>\n",
       "      <th>HUMSUBS</th>\n",
       "      <th>TEMPSUBS</th>\n",
       "      <th>FECHA</th>\n",
       "    </tr>\n",
       "  </thead>\n",
       "  <tbody>\n",
       "  </tbody>\n",
       "</table>\n",
       "</div>"
      ],
      "text/plain": [
       "Empty DataFrame\n",
       "Columns: [DIRS, DIRR, VELS, VELR, TEMP, HR, PB, PREC, RADSOL, TEMPCOMB, HUMCOMB, HUMSUBS, TEMPSUBS, FECHA]\n",
       "Index: []"
      ]
     },
     "execution_count": 9,
     "metadata": {},
     "output_type": "execute_result"
    }
   ],
   "source": [
    "# Selecciona los renglones con Temperatura > 24ºC y < 25ºC\n",
    "df_tmp = df[df.TEMP > 24] \n",
    "df_select = df_tmp[df_tmp.TEMP < 25]\n",
    "df_select"
   ]
  },
  {
   "cell_type": "code",
   "execution_count": 10,
   "metadata": {},
   "outputs": [
    {
     "data": {
      "text/plain": [
       "DIRS        150.323353\n",
       "DIRR        136.850299\n",
       "VELS          5.362695\n",
       "VELR         15.483832\n",
       "TEMP         13.641916\n",
       "HR           64.143713\n",
       "PB          935.971856\n",
       "PREC          0.002395\n",
       "RADSOL      120.681437\n",
       "TEMPCOMB     14.074850\n",
       "HUMCOMB      61.844311\n",
       "HUMSUBS       5.838323\n",
       "TEMPSUBS     13.949701\n",
       "dtype: float64"
      ]
     },
     "execution_count": 10,
     "metadata": {},
     "output_type": "execute_result"
    }
   ],
   "source": [
    "# Calcula el promedio de las columnas, excepto en la FECHA (que no tendría sentido)\n",
    "df.mean()"
   ]
  },
  {
   "cell_type": "code",
   "execution_count": 11,
   "metadata": {},
   "outputs": [
    {
     "data": {
      "text/plain": [
       "13.64191616766467"
      ]
     },
     "execution_count": 11,
     "metadata": {},
     "output_type": "execute_result"
    }
   ],
   "source": [
    "# Calcula el promedio de las Temperaturas\n",
    "df.TEMP.mean()"
   ]
  },
  {
   "cell_type": "code",
   "execution_count": 12,
   "metadata": {},
   "outputs": [
    {
     "data": {
      "image/png": "[encoded data removed]",
      "text/plain": [
       "<matplotlib.figure.Figure at 0x7fd9f41ed240>"
      ]
     },
     "metadata": {},
     "output_type": "display_data"
    }
   ],
   "source": [
    "# Gráfica de la rapidez de los vientos (m/s) \n",
    "plt.figure(); df.VELS.plot(); plt.legend(loc='best')\n",
    "plt.title(\"Variación de la Rapidez de los Vientos\")\n",
    "plt.ylabel(\"Rapidez (m/s)\")\n",
    "plt.grid(True)\n",
    "plt.show()"
   ]
  },
  {
   "cell_type": "code",
   "execution_count": 13,
   "metadata": {},
   "outputs": [
    {
     "data": {
      "text/plain": [
       "<matplotlib.figure.Figure at 0x7fd9ed15a9b0>"
      ]
     },
     "metadata": {},
     "output_type": "display_data"
    },
    {
     "data": {
      "image/png": "[encoded data removed]",
      "text/plain": [
       "<matplotlib.figure.Figure at 0x7fd9ed1275f8>"
      ]
     },
     "metadata": {},
     "output_type": "display_data"
    }
   ],
   "source": [
    "# Gráfica de Temperatura y Humedad Relativa\n",
    "df1 = df[['TEMP','HR']]\n",
    "plt.figure(); df1.plot(); plt.legend(loc='best')\n",
    "plt.title(\"Variación de la Temperatura y la Humedad Relativa\")\n",
    "plt.ylabel(\"Temp ºC /(%) HR\")\n",
    "plt.grid(True)\n",
    "plt.show()\n"
   ]
  },
  {
   "cell_type": "code",
   "execution_count": 14,
   "metadata": {},
   "outputs": [
    {
     "data": {
      "image/png": "[encoded data removed]",
      "text/plain": [
       "<matplotlib.figure.Figure at 0x7fd9f41ed390>"
      ]
     },
     "metadata": {},
     "output_type": "display_data"
    }
   ],
   "source": [
    "plt.plot_date(x=df.FECHA, y=df.TEMP, fmt=\"b-\")\n",
    "plt.title(\"Variación de la Temperatura\")\n",
    "plt.ylabel(\"Temp ºC\")\n",
    "plt.grid(True)\n",
    "plt.show()"
   ]
  },
  {
   "cell_type": "code",
   "execution_count": null,
   "metadata": {
    "collapsed": true
   },
   "outputs": [],
   "source": []
  }
 ],
 "metadata": {
  "kernelspec": {
   "display_name": "Python 3",
   "language": "python",
   "name": "python3"
  },
  "language_info": {
   "codemirror_mode": {
    "name": "ipython",
    "version": 3
   },
   "file_extension": ".py",
   "mimetype": "text/x-python",
   "name": "python",
   "nbconvert_exporter": "python",
   "pygments_lexer": "ipython3",
   "version": "3.6.3"
  }
 },
 "nbformat": 4,
 "nbformat_minor": 2
}
